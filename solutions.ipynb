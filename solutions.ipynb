{
 "cells": [
  {
   "cell_type": "code",
   "execution_count": 14,
   "metadata": {},
   "outputs": [],
   "source": [
    "from typing import Optional\n",
    "\n",
    "# Definition for singly-linked list.\n",
    "class ListNode:\n",
    "    def __init__(self, val=0, next=None):\n",
    "        self.val: int = val\n",
    "        self.next: ListNode = next\n",
    "    \n",
    "    def __repr__(self) -> str:\n",
    "        list = []\n",
    "        next_node = self\n",
    "        \n",
    "        while(next_node is not None):\n",
    "            list.append(next_node.val)\n",
    "            next_node = next_node.next\n",
    "        return str(list)\n",
    "    \n",
    "    def __str__(self) -> str:\n",
    "        return self.__repr__()\n",
    "\n",
    "class Solution:\n",
    "    def deleteDuplicates(self, head: Optional[ListNode]) -> Optional[ListNode]:\n",
    "        if not head or not head.next:\n",
    "            return head\n",
    "\n",
    "        print(f'{head=}')\n",
    "        \n",
    "        head.next = self.deleteDuplicates(head.next)\n",
    "        \n",
    "        if head.val == head.next.val:\n",
    "            return head.next\n",
    "        else:\n",
    "            return head"
   ]
  },
  {
   "cell_type": "code",
   "execution_count": 16,
   "metadata": {},
   "outputs": [],
   "source": [
    "from typing import Optional\n",
    "\n",
    "# Definition for singly-linked list.\n",
    "class ListNode:\n",
    "    def __init__(self, val=0, next=None):\n",
    "        self.val: int = val\n",
    "        self.next: ListNode = next\n",
    "    \n",
    "    def __repr__(self) -> str:\n",
    "        list = []\n",
    "        next_node = self\n",
    "        \n",
    "        while(next_node is not None):\n",
    "            list.append(next_node.val)\n",
    "            next_node = next_node.next\n",
    "        return str(list)\n",
    "    \n",
    "    def __str__(self) -> str:\n",
    "        return self.__repr__()\n",
    "\n",
    "class Solution:\n",
    "    def deleteDuplicates(self, head: Optional[ListNode]) -> Optional[ListNode]:\n",
    "        dummy = ListNode(-101)\n",
    "        dummy.next = head\n",
    "        previous = dummy\n",
    "        current = head\n",
    "        \n",
    "        while current:\n",
    "            print(f'{current=}')\n",
    "            print(f'{previous=}')\n",
    "            if previous.val == current.val:\n",
    "                previous.next = current.next\n",
    "                current = current.next\n",
    "                continue\n",
    "            previous = current\n",
    "            current = current.next\n",
    "                \n",
    "        return dummy.next\n",
    "        \n",
    "        "
   ]
  },
  {
   "cell_type": "code",
   "execution_count": 17,
   "metadata": {},
   "outputs": [
    {
     "name": "stdout",
     "output_type": "stream",
     "text": [
      "current=[1, 1]\n",
      "previous=[-101, 1, 1]\n",
      "current=[1]\n",
      "previous=[1, 1]\n",
      "[1]\n"
     ]
    }
   ],
   "source": [
    "sol = Solution()\n",
    "head = ListNode(1, ListNode(1))\n",
    "print(sol.deleteDuplicates(head))"
   ]
  },
  {
   "cell_type": "code",
   "execution_count": 18,
   "metadata": {},
   "outputs": [
    {
     "name": "stdout",
     "output_type": "stream",
     "text": [
      "current=[1, 1, 1, 1, 1]\n",
      "previous=[-101, 1, 1, 1, 1, 1]\n",
      "current=[1, 1, 1, 1]\n",
      "previous=[1, 1, 1, 1, 1]\n",
      "current=[1, 1, 1]\n",
      "previous=[1, 1, 1, 1]\n",
      "current=[1, 1]\n",
      "previous=[1, 1, 1]\n",
      "current=[1]\n",
      "previous=[1, 1]\n",
      "[1]\n"
     ]
    }
   ],
   "source": [
    "sol = Solution()\n",
    "head = ListNode(1, ListNode(1, ListNode(1,  ListNode(1, ListNode(1)))))\n",
    "print(sol.deleteDuplicates(head))"
   ]
  },
  {
   "cell_type": "code",
   "execution_count": 19,
   "metadata": {},
   "outputs": [
    {
     "name": "stdout",
     "output_type": "stream",
     "text": [
      "current=[1, 1, 2, 3, 3]\n",
      "previous=[-101, 1, 1, 2, 3, 3]\n",
      "current=[1, 2, 3, 3]\n",
      "previous=[1, 1, 2, 3, 3]\n",
      "current=[2, 3, 3]\n",
      "previous=[1, 2, 3, 3]\n",
      "current=[3, 3]\n",
      "previous=[2, 3, 3]\n",
      "current=[3]\n",
      "previous=[3, 3]\n",
      "[1, 2, 3]\n"
     ]
    }
   ],
   "source": [
    "sol = Solution()\n",
    "head = ListNode(1, ListNode(1, ListNode(2, ListNode(3, ListNode(3)))))\n",
    "print(sol.deleteDuplicates(head))"
   ]
  },
  {
   "cell_type": "code",
   "execution_count": 20,
   "metadata": {},
   "outputs": [
    {
     "name": "stdout",
     "output_type": "stream",
     "text": [
      "current=[1, 1, 2, 3, 3, 7, 8, 8]\n",
      "previous=[-101, 1, 1, 2, 3, 3, 7, 8, 8]\n",
      "current=[1, 2, 3, 3, 7, 8, 8]\n",
      "previous=[1, 1, 2, 3, 3, 7, 8, 8]\n",
      "current=[2, 3, 3, 7, 8, 8]\n",
      "previous=[1, 2, 3, 3, 7, 8, 8]\n",
      "current=[3, 3, 7, 8, 8]\n",
      "previous=[2, 3, 3, 7, 8, 8]\n",
      "current=[3, 7, 8, 8]\n",
      "previous=[3, 3, 7, 8, 8]\n",
      "current=[7, 8, 8]\n",
      "previous=[3, 7, 8, 8]\n",
      "current=[8, 8]\n",
      "previous=[7, 8, 8]\n",
      "current=[8]\n",
      "previous=[8, 8]\n",
      "[1, 2, 3, 7, 8]\n"
     ]
    }
   ],
   "source": [
    "sol = Solution()\n",
    "head = ListNode(1, ListNode(1, ListNode(2, ListNode(3, ListNode(3, ListNode(7, ListNode(8, ListNode(8))))))))\n",
    "print(sol.deleteDuplicates(head))"
   ]
  },
  {
   "cell_type": "code",
   "execution_count": 25,
   "metadata": {},
   "outputs": [],
   "source": [
    "from typing import List\n",
    "\n",
    "class Solution:\n",
    "    def merge(self, nums1: List[int], m: int, nums2: List[int], n: int) -> None:\n",
    "        \"\"\"\n",
    "        Do not return anything, modify nums1 in-place instead.\n",
    "        \"\"\"\n",
    "        if not nums1 or not nums2:\n",
    "            return nums1 or nums2\n",
    "        \n",
    "        i = 0\n",
    "        while m < len(nums1):\n",
    "            nums1[m] = nums2[i]\n",
    "            i += 1\n",
    "            m += 1\n",
    "           \n",
    "        nums1.sort()"
   ]
  },
  {
   "cell_type": "code",
   "execution_count": 26,
   "metadata": {},
   "outputs": [
    {
     "name": "stdout",
     "output_type": "stream",
     "text": [
      "[1, 2, 2, 3, 5, 6]\n"
     ]
    }
   ],
   "source": [
    "sol = Solution()\n",
    "sol.merge([1,2,3,0,0,0], 3, [2,5,6], 3)"
   ]
  },
  {
   "cell_type": "code",
   "execution_count": 27,
   "metadata": {},
   "outputs": [
    {
     "data": {
      "text/plain": [
       "[1]"
      ]
     },
     "execution_count": 27,
     "metadata": {},
     "output_type": "execute_result"
    }
   ],
   "source": [
    "sol = Solution()\n",
    "sol.merge([1], 1, [], 0)"
   ]
  },
  {
   "cell_type": "code",
   "execution_count": 28,
   "metadata": {},
   "outputs": [
    {
     "name": "stdout",
     "output_type": "stream",
     "text": [
      "[1]\n"
     ]
    }
   ],
   "source": [
    "sol = Solution()\n",
    "sol.merge([0], 0, [1], 1)"
   ]
  }
 ],
 "metadata": {
  "kernelspec": {
   "display_name": "Python 3",
   "language": "python",
   "name": "python3"
  },
  "language_info": {
   "codemirror_mode": {
    "name": "ipython",
    "version": 3
   },
   "file_extension": ".py",
   "mimetype": "text/x-python",
   "name": "python",
   "nbconvert_exporter": "python",
   "pygments_lexer": "ipython3",
   "version": "3.10.12"
  }
 },
 "nbformat": 4,
 "nbformat_minor": 2
}
