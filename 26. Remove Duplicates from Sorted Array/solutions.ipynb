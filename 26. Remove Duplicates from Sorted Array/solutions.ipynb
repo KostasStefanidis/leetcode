{
 "cells": [
  {
   "cell_type": "code",
   "execution_count": null,
   "metadata": {},
   "outputs": [],
   "source": [
    "from typing import List"
   ]
  },
  {
   "cell_type": "code",
   "execution_count": 80,
   "metadata": {},
   "outputs": [],
   "source": [
    "class Solution:\n",
    "    def removeDuplicates(self, nums: List[int]) -> int:\n",
    "        \n",
    "        i = 0\n",
    "        while i < len(nums) - 1:\n",
    "            tmp = nums.pop(i)\n",
    "            \n",
    "            while tmp in nums:\n",
    "                nums.remove(tmp)\n",
    "            \n",
    "            tmp = nums.insert(i, tmp)\n",
    "            \n",
    "            i = i + 1\n",
    "\n",
    "        return len(nums)"
   ]
  },
  {
   "cell_type": "code",
   "execution_count": 121,
   "metadata": {},
   "outputs": [],
   "source": [
    "class Solution:\n",
    "    def removeDuplicates(self, nums: List[int]) -> int:\n",
    "        i = 1\n",
    "        while i < len(nums):\n",
    "            if nums[i] == nums[i - 1]:\n",
    "                nums.pop(i)\n",
    "            else:\n",
    "                i += 1\n",
    "        return len(nums)"
   ]
  },
  {
   "cell_type": "code",
   "execution_count": 116,
   "metadata": {},
   "outputs": [],
   "source": [
    "class Solution:\n",
    "    def removeDuplicates(self, nums: List[int]) -> int:\n",
    "        # the [:] replaces the elements in-place\n",
    "        nums[:] = sorted(set(nums))\n",
    "        \n",
    "        return len(nums)"
   ]
  },
  {
   "cell_type": "code",
   "execution_count": 126,
   "metadata": {},
   "outputs": [],
   "source": [
    "from collections import OrderedDict\n",
    "class Solution(object):\n",
    "    def removeDuplicates(self, nums):\n",
    "        nums[:] =  OrderedDict.fromkeys(nums)\n",
    "        return len(nums)"
   ]
  }
 ],
 "metadata": {
  "kernelspec": {
   "display_name": "Python 3",
   "language": "python",
   "name": "python3"
  },
  "language_info": {
   "codemirror_mode": {
    "name": "ipython",
    "version": 3
   },
   "file_extension": ".py",
   "mimetype": "text/x-python",
   "name": "python",
   "nbconvert_exporter": "python",
   "pygments_lexer": "ipython3",
   "version": "3.10.12"
  }
 },
 "nbformat": 4,
 "nbformat_minor": 2
}
